{
 "cells": [
  {
   "cell_type": "code",
   "execution_count": null,
   "id": "07a09dfe-d284-4e18-8bae-43305250a505",
   "metadata": {},
   "outputs": [],
   "source": [
    "# LISTS "
   ]
  },
  {
   "cell_type": "code",
   "execution_count": null,
   "id": "b1cb0758-cadf-429a-8c58-3f6c275862c7",
   "metadata": {},
   "outputs": [],
   "source": [
    "my_list=[10,20,30,40,50,60,70,80,90,100]\n",
    "my_list[2]"
   ]
  },
  {
   "cell_type": "code",
   "execution_count": 6,
   "id": "7afb5ae4-7167-42db-876b-017fa85f0ec9",
   "metadata": {},
   "outputs": [
    {
     "data": {
      "text/plain": [
       "90"
      ]
     },
     "execution_count": 6,
     "metadata": {},
     "output_type": "execute_result"
    }
   ],
   "source": [
    "my_list[-2]"
   ]
  },
  {
   "cell_type": "code",
   "execution_count": 8,
   "id": "34a645be-8834-408e-ad4d-19da54b42b1c",
   "metadata": {},
   "outputs": [
    {
     "data": {
      "text/plain": [
       "[20, 30, 40, 50, 60, 70]"
      ]
     },
     "execution_count": 8,
     "metadata": {},
     "output_type": "execute_result"
    }
   ],
   "source": [
    "my_list[1:7]"
   ]
  },
  {
   "cell_type": "code",
   "execution_count": 9,
   "id": "a134b524-88f9-41f0-bdee-f3678f847fc9",
   "metadata": {},
   "outputs": [
    {
     "data": {
      "text/plain": [
       "[50, 60, 70, 80, 90, 100]"
      ]
     },
     "execution_count": 9,
     "metadata": {},
     "output_type": "execute_result"
    }
   ],
   "source": [
    "my_list[4:]"
   ]
  },
  {
   "cell_type": "code",
   "execution_count": 10,
   "id": "5aa7bb37-44ad-4d79-822c-99fe75ae44a7",
   "metadata": {},
   "outputs": [
    {
     "data": {
      "text/plain": [
       "[2, 5, 7, 8, 10]"
      ]
     },
     "execution_count": 10,
     "metadata": {},
     "output_type": "execute_result"
    }
   ],
   "source": [
    "list=[2,5,7,8,10]\n",
    "list"
   ]
  },
  {
   "cell_type": "code",
   "execution_count": 11,
   "id": "26435235-9a4a-43f9-9f18-18cba12815a3",
   "metadata": {},
   "outputs": [
    {
     "data": {
      "text/plain": [
       "[4, 5, 7, 8, 10]"
      ]
     },
     "execution_count": 11,
     "metadata": {},
     "output_type": "execute_result"
    }
   ],
   "source": [
    "list[0]=4\n",
    "list"
   ]
  },
  {
   "cell_type": "code",
   "execution_count": 37,
   "id": "ec2d0315-a738-4fc2-ad07-c66dd02ccf4e",
   "metadata": {},
   "outputs": [
    {
     "name": "stdin",
     "output_type": "stream",
     "text": [
      " 5\n",
      " 'shiva'\n",
      " 2\n",
      " 4\n",
      " 'sai'\n",
      " 8\n"
     ]
    },
    {
     "name": "stdout",
     "output_type": "stream",
     "text": [
      "[\"'shiva'\", '2', '4', \"'sai'\", '8']\n"
     ]
    }
   ],
   "source": [
    "n=int(input())\n",
    "list1=[]\n",
    "for i in range(n):\n",
    "    i=input()\n",
    "    list1.append(i)\n",
    "print(list1)"
   ]
  },
  {
   "cell_type": "code",
   "execution_count": 42,
   "id": "c14c882e-d8cf-4410-8d56-a3a9eea46725",
   "metadata": {},
   "outputs": [
    {
     "name": "stdin",
     "output_type": "stream",
     "text": [
      "Enter the element to remove : 9\n"
     ]
    },
    {
     "data": {
      "text/plain": [
       "[1, 2, 3, 4, 5, 6, 7, 8]"
      ]
     },
     "execution_count": 42,
     "metadata": {},
     "output_type": "execute_result"
    }
   ],
   "source": [
    "#insert an element at specified position\n",
    "car=[1,2,3,4,5,6,7,8,9]\n",
    "re=int(input(\"Enter the element to remove :\"))\n",
    "car.remove(re)\n",
    "car"
   ]
  },
  {
   "cell_type": "code",
   "execution_count": 43,
   "id": "405c805c-b83e-4125-a881-04a6e4e1bab9",
   "metadata": {},
   "outputs": [
    {
     "data": {
      "text/plain": [
       "[1, 2, 3, 4, 5, 6, 7, 8]"
      ]
     },
     "execution_count": 43,
     "metadata": {},
     "output_type": "execute_result"
    }
   ],
   "source": [
    "car"
   ]
  },
  {
   "cell_type": "code",
   "execution_count": 59,
   "id": "946d221f-2c9b-4aae-a1b3-8a680a1a3b40",
   "metadata": {},
   "outputs": [
    {
     "data": {
      "text/plain": [
       "[1,\n",
       " 2,\n",
       " 2,\n",
       " 5,\n",
       " 6,\n",
       " 7,\n",
       " \"'shiva'\",\n",
       " '2',\n",
       " '4',\n",
       " \"'sai'\",\n",
       " '8',\n",
       " \"'shiva'\",\n",
       " '2',\n",
       " '4',\n",
       " \"'sai'\",\n",
       " '8',\n",
       " 2,\n",
       " \"'shiva'\",\n",
       " '2',\n",
       " '4',\n",
       " \"'sai'\"]"
      ]
     },
     "execution_count": 59,
     "metadata": {},
     "output_type": "execute_result"
    }
   ],
   "source": [
    "car.pop(2)\n",
    "car\n",
    "car.pop()\n",
    "car"
   ]
  },
  {
   "cell_type": "code",
   "execution_count": 46,
   "id": "99874204-3775-408e-bce8-89e6f4a4da9c",
   "metadata": {},
   "outputs": [
    {
     "data": {
      "text/plain": [
       "2"
      ]
     },
     "execution_count": 46,
     "metadata": {},
     "output_type": "execute_result"
    }
   ],
   "source": [
    "car.index("
   ]
  },
  {
   "cell_type": "code",
   "execution_count": 51,
   "id": "18020fff-425a-4712-a2ff-b8fe19ee5d59",
   "metadata": {},
   "outputs": [
    {
     "data": {
      "text/plain": [
       "3"
      ]
     },
     "execution_count": 51,
     "metadata": {},
     "output_type": "execute_result"
    }
   ],
   "source": [
    "car.count(2)"
   ]
  },
  {
   "cell_type": "code",
   "execution_count": 57,
   "id": "d89ad1e8-03bb-4b01-9cc5-36faef6e7b82",
   "metadata": {},
   "outputs": [
    {
     "data": {
      "text/plain": [
       "[1,\n",
       " 2,\n",
       " 2,\n",
       " 2,\n",
       " 5,\n",
       " 6,\n",
       " 7,\n",
       " \"'shiva'\",\n",
       " '2',\n",
       " '4',\n",
       " \"'sai'\",\n",
       " '8',\n",
       " \"'shiva'\",\n",
       " '2',\n",
       " '4',\n",
       " \"'sai'\",\n",
       " '8',\n",
       " 2]"
      ]
     },
     "execution_count": 57,
     "metadata": {},
     "output_type": "execute_result"
    }
   ],
   "source": [
    "car.append(2)\n",
    "car"
   ]
  },
  {
   "cell_type": "code",
   "execution_count": 58,
   "id": "8c60c295-3e21-4188-8952-c681f0aabff8",
   "metadata": {},
   "outputs": [],
   "source": [
    "car.extend(list1)"
   ]
  },
  {
   "cell_type": "code",
   "execution_count": 60,
   "id": "44223e2a-07f3-4196-85ed-4b7f1f3c3252",
   "metadata": {},
   "outputs": [],
   "source": [
    "list1=[12,12,13,43,63,643,136]\n"
   ]
  },
  {
   "cell_type": "code",
   "execution_count": 63,
   "id": "d7afb3a2-5fef-41d2-84a6-28a38d7ccf08",
   "metadata": {},
   "outputs": [
    {
     "data": {
      "text/plain": [
       "[12, 12, 13, 43, 63, 136, 643]"
      ]
     },
     "execution_count": 63,
     "metadata": {},
     "output_type": "execute_result"
    }
   ],
   "source": [
    "list1.sort()\n",
    "list1"
   ]
  },
  {
   "cell_type": "code",
   "execution_count": 64,
   "id": "87541742-e7be-4b1b-92f2-381a13ab90c4",
   "metadata": {},
   "outputs": [
    {
     "data": {
      "text/plain": [
       "[643, 136, 63, 43, 13, 12, 12]"
      ]
     },
     "execution_count": 64,
     "metadata": {},
     "output_type": "execute_result"
    }
   ],
   "source": [
    "list1.sort(reverse=True)\n",
    "list1"
   ]
  },
  {
   "cell_type": "code",
   "execution_count": 91,
   "id": "2b329af5-c157-4c67-a7d7-292d29021c61",
   "metadata": {},
   "outputs": [
    {
     "name": "stdin",
     "output_type": "stream",
     "text": [
      "Enter value : 5\n",
      "Enter values : 12\n",
      "Enter values : 14\n",
      "Enter values : 16\n",
      "Enter values : 18\n",
      "Enter values : 20\n"
     ]
    },
    {
     "name": "stdout",
     "output_type": "stream",
     "text": [
      "[12, 14, 16, 18, 20]\n",
      "[100, 12, 14, 16, 18, 20]\n",
      "[12, 14, 16, 18, 20]\n",
      "[12, 14, 16, 18, 85, 75, 95, 65, 55]\n",
      "2\n",
      "[95, 85, 75, 65, 55, 18, 16, 14, 12]\n",
      "[12, 14, 16, 18, 55, 65, 75, 85, 95]\n"
     ]
    }
   ],
   "source": [
    "scores=[]\n",
    "n=int(input('Enter value :'))\n",
    "for i in range (n):\n",
    "    i=int(input(\"Enter values to scores :\"))\n",
    "    scores.append(i)\n",
    "print(scores)\n",
    "m=min(scores)\n",
    "ind=scores.index(m)\n",
    "scores.insert(ind,100)\n",
    "print(scores,\"Scores after inserting\")\n",
    "mss = max(scores)\n",
    "scores.remove(mss)\n",
    "print(scores,\"Scores after removing the max value\")\n",
    "popscore=scores.pop(4)\n",
    "slist=[85,75,95,65,55]\n",
    "scores.extend(slist)\n",
    "print(\"Extended list : \",scores)\n",
    "scount=sum(1 for s in scores if s>80)\n",
    "print(scount,\"Scores which are greater than 80\")\n",
    "scores.sort(reverse=True)\n",
    "print(\"Reverse order: \",scores)\n",
    "scores.reverse()\n",
    "print(scores,\"After sorting (descending) vales :\")"
   ]
  },
  {
   "cell_type": "code",
   "execution_count": 8,
   "id": "b7f32c1d-ce3c-47c5-af05-61cfa25ab74c",
   "metadata": {},
   "outputs": [
    {
     "data": {
      "text/plain": [
       "'kashi'"
      ]
     },
     "execution_count": 8,
     "metadata": {},
     "output_type": "execute_result"
    }
   ],
   "source": [
    "sr=\"KAshi\"\n",
    "sr.lower()"
   ]
  },
  {
   "cell_type": "code",
   "execution_count": 14,
   "id": "945270a7-2422-4780-b35f-410979506ab5",
   "metadata": {},
   "outputs": [
    {
     "name": "stdin",
     "output_type": "stream",
     "text": [
      " shiva\n"
     ]
    },
    {
     "name": "stdout",
     "output_type": "stream",
     "text": [
      "5\n"
     ]
    }
   ],
   "source": [
    "sh=input()\n",
    "c=0\n",
    "for i in sh:\n",
    "    c+=1\n",
    "print(c)"
   ]
  },
  {
   "cell_type": "code",
   "execution_count": 15,
   "id": "d4332802-993a-4fba-af1e-aa4d3a75b601",
   "metadata": {},
   "outputs": [
    {
     "data": {
      "text/plain": [
       "'SWAPcase'"
      ]
     },
     "execution_count": 15,
     "metadata": {},
     "output_type": "execute_result"
    }
   ],
   "source": [
    "b='swapCASE'\n",
    "b.swapcase()"
   ]
  },
  {
   "cell_type": "code",
   "execution_count": 16,
   "id": "3d440912-1c3f-4860-9a63-75d3734053bd",
   "metadata": {},
   "outputs": [
    {
     "data": {
      "text/plain": [
       "'Title'"
      ]
     },
     "execution_count": 16,
     "metadata": {},
     "output_type": "execute_result"
    }
   ],
   "source": [
    "b='title'\n",
    "b.title()"
   ]
  },
  {
   "cell_type": "code",
   "execution_count": 17,
   "id": "048d450b-512d-4b17-93a6-3dc5a05d8387",
   "metadata": {},
   "outputs": [
    {
     "data": {
      "text/plain": [
       "True"
      ]
     },
     "execution_count": 17,
     "metadata": {},
     "output_type": "execute_result"
    }
   ],
   "source": [
    "st='1234'\n",
    "st.isdigit()"
   ]
  },
  {
   "cell_type": "code",
   "execution_count": 18,
   "id": "007b36fb-49a5-4f13-b35b-65829f28683e",
   "metadata": {},
   "outputs": [
    {
     "data": {
      "text/plain": [
       "True"
      ]
     },
     "execution_count": 18,
     "metadata": {},
     "output_type": "execute_result"
    }
   ],
   "source": [
    "st='shiva'\n",
    "st.islower()"
   ]
  },
  {
   "cell_type": "code",
   "execution_count": 20,
   "id": "e3866a0f-a9ee-400e-a2b0-3616106d6915",
   "metadata": {},
   "outputs": [
    {
     "data": {
      "text/plain": [
       "False"
      ]
     },
     "execution_count": 20,
     "metadata": {},
     "output_type": "execute_result"
    }
   ],
   "source": [
    "st='shivaKASHI'\n",
    "st.islower()"
   ]
  },
  {
   "cell_type": "code",
   "execution_count": null,
   "id": "e89a9c18-5a7f-4e3c-bb9e-60017778a214",
   "metadata": {},
   "outputs": [],
   "source": [
    "3 problems on list tuple and string"
   ]
  }
 ],
 "metadata": {
  "kernelspec": {
   "display_name": "Python 3 (ipykernel)",
   "language": "python",
   "name": "python3"
  },
  "language_info": {
   "codemirror_mode": {
    "name": "ipython",
    "version": 3
   },
   "file_extension": ".py",
   "mimetype": "text/x-python",
   "name": "python",
   "nbconvert_exporter": "python",
   "pygments_lexer": "ipython3",
   "version": "3.12.7"
  }
 },
 "nbformat": 4,
 "nbformat_minor": 5
}
