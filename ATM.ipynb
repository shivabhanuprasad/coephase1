{
 "cells": [
  {
   "cell_type": "code",
   "execution_count": 1,
   "id": "a0377d26-06d5-4136-9b0a-0ce693e98c29",
   "metadata": {},
   "outputs": [],
   "source": [
    "pin=1234\n",
    "actbal=10000\n",
    "choice=0\n",
    "\n",
    "def validate():\n",
    "    opin=int(input(\"Enter your pin\"))\n",
    "    if opin==pin:\n",
    "        print(\"valid pin\")\n",
    "        print(\" \")\n",
    "        options()\n",
    "    else:\n",
    "        print(\"Enter a valid pin\")\n",
    "\n",
    "def options():\n",
    "    print(\"1 deposit\")\n",
    "    print(\"2 withdraw\")\n",
    "    print(\"3 balance\")\n",
    "    print(\" \")\n",
    "    choice=int(input(\"Enter your choice\"))\n",
    "    if choice==1:\n",
    "        deposit()\n",
    "    elif choice==2:\n",
    "        withdraw()\n",
    "    elif choice==3:\n",
    "        balance()\n",
    "    else:\n",
    "        print(\"Invalid choice\")\n",
    "\n",
    "def deposit():\n",
    "    actbal = 10000\n",
    "    amount = int(input(\"Enter your amount to deposit (amount in multiples of 100): \"))\n",
    "\n",
    "    if amount % 100 != 0:\n",
    "        print(\"Please enter amount in multiples of 100.\")\n",
    "        return\n",
    "\n",
    "    if amount > 20000:\n",
    "        print(\"Maximum deposit limit is 20,000.\")\n",
    "        return\n",
    "\n",
    "    one = amount // 100\n",
    "    actbal = actbal + amount\n",
    "    print(f\"You deposited ${amount}.\")\n",
    "    print(f\"Total balance ${actbal}\")\n",
    "    options()\n",
    "    \n",
    "\n",
    "def withdraw():\n",
    "    actbal=10000\n",
    "    amount = int(input(\"Enter your amount to deposit (amount in multiples of 100): \"))\n",
    "\n",
    "    if amount % 100 != 0:\n",
    "        print(\"Please enter amount in multiples of 100.\")\n",
    "        return\n",
    "        \n",
    "    if amount > 20000:\n",
    "        print(\"Maximum deposit limit is 20,000.\")\n",
    "        return\n",
    "    elif amount > actbal:\n",
    "        print(\"Insufficient balance.\")\n",
    "    else:\n",
    "        actbal -= amount\n",
    "        print(f\"You withdrew ${amount}.\")\n",
    "        print(f\"Total balance ${actbal}\")\n",
    "        options()\n",
    "\n",
    "\n",
    "def balance():\n",
    "    print(f\"Current balance ${actbal}\")"
   ]
  },
  {
   "cell_type": "code",
   "execution_count": 2,
   "id": "46e3eac2-e4ca-4b6c-9a37-ca6b22d3fa5f",
   "metadata": {},
   "outputs": [
    {
     "name": "stdin",
     "output_type": "stream",
     "text": [
      "Enter your pin 1234\n"
     ]
    },
    {
     "name": "stdout",
     "output_type": "stream",
     "text": [
      "valid pin\n",
      " \n",
      "1 deposit\n",
      "2 withdraw\n",
      "3 balance\n",
      " \n"
     ]
    },
    {
     "name": "stdin",
     "output_type": "stream",
     "text": [
      "Enter your choice 1\n",
      "Enter your amount to deposit (amount in multiples of 100):  2000\n"
     ]
    },
    {
     "name": "stdout",
     "output_type": "stream",
     "text": [
      "You deposited $2000.\n",
      "Total balance $12000\n",
      "1 deposit\n",
      "2 withdraw\n",
      "3 balance\n",
      " \n"
     ]
    },
    {
     "name": "stdin",
     "output_type": "stream",
     "text": [
      "Enter your choice 2\n",
      "Enter your amount to deposit (amount in multiples of 100):  3000\n"
     ]
    },
    {
     "name": "stdout",
     "output_type": "stream",
     "text": [
      "You withdrew $3000.\n",
      "Total balance $7000\n",
      "1 deposit\n",
      "2 withdraw\n",
      "3 balance\n",
      " \n"
     ]
    },
    {
     "name": "stdin",
     "output_type": "stream",
     "text": [
      "Enter your choice 3\n"
     ]
    },
    {
     "name": "stdout",
     "output_type": "stream",
     "text": [
      "Current balance $10000\n"
     ]
    }
   ],
   "source": [
    "validate()"
   ]
  },
  {
   "cell_type": "code",
   "execution_count": null,
   "id": "8266166e-4584-41cb-b094-d54e4eef58e7",
   "metadata": {},
   "outputs": [
    {
     "name": "stdout",
     "output_type": "stream",
     "text": [
      "\n",
      "=== Welcome to Python Simple ATM ===\n",
      "1. Set PIN\n",
      "2. Enter PIN\n",
      "3. Exit\n"
     ]
    },
    {
     "name": "stdin",
     "output_type": "stream",
     "text": [
      "Choose an option:  2\n"
     ]
    },
    {
     "name": "stdout",
     "output_type": "stream",
     "text": [
      "Please set your PIN first ❗\n",
      "\n",
      "=== Welcome to Python Simple ATM ===\n",
      "1. Set PIN\n",
      "2. Enter PIN\n",
      "3. Exit\n"
     ]
    },
    {
     "name": "stdin",
     "output_type": "stream",
     "text": [
      "Choose an option:  1\n",
      "Set 4-digit PIN:  1234\n"
     ]
    },
    {
     "name": "stdout",
     "output_type": "stream",
     "text": [
      "PIN set successfully.\n",
      "\n",
      "=== Welcome to Python Simple ATM ===\n",
      "1. Set PIN\n",
      "2. Enter PIN\n",
      "3. Exit\n"
     ]
    },
    {
     "name": "stdin",
     "output_type": "stream",
     "text": [
      "Choose an option:  2\n",
      "Enter your pin:  1234\n"
     ]
    },
    {
     "name": "stdout",
     "output_type": "stream",
     "text": [
      "Correct PIN.\n",
      "\n",
      "Select an option:\n",
      "1. Withdraw\n",
      "2. Deposit\n",
      "3. Check Balance\n",
      "4. Exit\n"
     ]
    },
    {
     "name": "stdin",
     "output_type": "stream",
     "text": [
      "Your choice:  1\n",
      "Enter amount to withdraw: ₹ 1000\n"
     ]
    },
    {
     "name": "stdout",
     "output_type": "stream",
     "text": [
      "₹1000 withdrawn.\n",
      "Balance: ₹9000\n",
      "\n",
      "Select an option:\n",
      "1. Withdraw\n",
      "2. Deposit\n",
      "3. Check Balance\n",
      "4. Exit\n"
     ]
    },
    {
     "name": "stdin",
     "output_type": "stream",
     "text": [
      "Your choice:  2\n",
      "Enter amount to deposit: ₹ 2000\n"
     ]
    },
    {
     "name": "stdout",
     "output_type": "stream",
     "text": [
      "₹2000 deposited.\n",
      "Balance: ₹11000\n",
      "\n",
      "Select an option:\n",
      "1. Withdraw\n",
      "2. Deposit\n",
      "3. Check Balance\n",
      "4. Exit\n"
     ]
    }
   ],
   "source": [
    "pin = \"\"\n",
    "balance = 10000  \n",
    "def set_pin():\n",
    "    global pin\n",
    "    if pin != \"\":\n",
    "        print(\"PIN is already set.\")\n",
    "        return\n",
    "    pin_input = input(\"Set 4-digit PIN: \")\n",
    "    if len(pin_input) == 4 and pin_input.isdigit():\n",
    "        pin = pin_input\n",
    "        print(\"PIN set successfully.\")\n",
    "    else:\n",
    "        print(\"Please enter a valid 4-digit number.\")\n",
    "        set_pin()\n",
    "\n",
    "def check_pin():\n",
    "    tries = 3\n",
    "    while tries > 0:\n",
    "        entered = input(\"Enter your pin: \")\n",
    "        if entered == pin:\n",
    "            print(\"Correct PIN.\")\n",
    "            show_options()\n",
    "            return\n",
    "        else:\n",
    "            tries -= 1\n",
    "            print(f\"Wrong PIN. You have {tries} tries left.\")\n",
    "    print(\"Too many wrong tries. Exiting...\")\n",
    "    exit()\n",
    "\n",
    "def withdraw():\n",
    "    global balance\n",
    "    amount = input(\"Enter amount to withdraw: ₹\")\n",
    "    if amount.isdigit():\n",
    "        amount = int(amount)\n",
    "        if amount % 100 != 0:\n",
    "            print(\"Only ₹100 multiples allowed.\")\n",
    "        elif amount > 20000:\n",
    "            print(\"Maximum withdrawal limit per transaction is ₹20,000.\")\n",
    "        elif amount > balance:\n",
    "            print(\"Not enough money in the account.\")\n",
    "        else:\n",
    "            balance -= amount\n",
    "            print(f\"₹{amount} withdrawn.\")\n",
    "            print(f\"Balance: ₹{balance}\")\n",
    "    else:\n",
    "        print(\"Invalid amount entered.\")\n",
    "\n",
    "def deposit():\n",
    "    global balance\n",
    "    amount = input(\"Enter amount to deposit: ₹\")\n",
    "    if amount.isdigit():\n",
    "        amount = int(amount)\n",
    "        if amount % 100 != 0:\n",
    "            print(\"Only ₹100 multiples allowed.\")\n",
    "        balance += amount\n",
    "        print(f\"₹{amount} deposited.\")\n",
    "        print(f\"Balance: ₹{balance}\")\n",
    "    else:\n",
    "        print(\"Invalid amount entered.\")\n",
    "\n",
    "def show_balance():\n",
    "    print(f\"Your current balance is ₹{balance}\")\n",
    "\n",
    "def show_options():\n",
    "    while True:\n",
    "        print(\"\\nSelect an option:\")\n",
    "        print(\"1. Withdraw\")\n",
    "        print(\"2. Deposit\")\n",
    "        print(\"3. Check Balance\")\n",
    "        print(\"4. Exit\")\n",
    "        choice = input(\"Your choice: \")\n",
    "\n",
    "        if choice == '1':\n",
    "            withdraw()\n",
    "        elif choice == '2':\n",
    "            deposit()\n",
    "        elif choice == '3':\n",
    "            show_balance()\n",
    "        elif choice == '4':\n",
    "            print(\"Exiting to main menu...\")\n",
    "            break\n",
    "        else:\n",
    "            print(\"Please choose a valid option.\")\n",
    "\n",
    "def main():\n",
    "    while True:\n",
    "        print(\"\\n Welcome to Python Simple ATM \")\n",
    "        print(\"1. Set PIN\")\n",
    "        print(\"2. Enter PIN\")\n",
    "        print(\"3. Exit\")\n",
    "        option = input(\"Choose an option: \")\n",
    "\n",
    "        if option == '1':\n",
    "            set_pin()\n",
    "        elif option == '2':\n",
    "            if pin == \"\":\n",
    "                print(\"Please set your PIN first \")\n",
    "            else:\n",
    "                check_pin()\n",
    "        elif option == '3':\n",
    "            print(\"Thank you for using the ATM. Bye.\")\n",
    "            break\n",
    "        else:\n",
    "            print(\"Invalid option. Try again.\")\n",
    "\n",
    "main()\n"
   ]
  },
  {
   "cell_type": "code",
   "execution_count": null,
   "id": "bc240b9b-ffc2-4152-9d2e-d455cc3186ed",
   "metadata": {},
   "outputs": [],
   "source": []
  }
 ],
 "metadata": {
  "kernelspec": {
   "display_name": "Python 3 (ipykernel)",
   "language": "python",
   "name": "python3"
  },
  "language_info": {
   "codemirror_mode": {
    "name": "ipython",
    "version": 3
   },
   "file_extension": ".py",
   "mimetype": "text/x-python",
   "name": "python",
   "nbconvert_exporter": "python",
   "pygments_lexer": "ipython3",
   "version": "3.12.7"
  }
 },
 "nbformat": 4,
 "nbformat_minor": 5
}
