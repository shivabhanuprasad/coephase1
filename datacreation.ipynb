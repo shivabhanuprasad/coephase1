{
 "cells": [
  {
   "cell_type": "code",
   "execution_count": 3,
   "id": "d8f5b55a-1d27-49de-9142-ebfdb39c3534",
   "metadata": {},
   "outputs": [],
   "source": [
    "import numpy as np"
   ]
  },
  {
   "cell_type": "code",
   "execution_count": 4,
   "id": "5714b06a-5f6a-460b-93f7-9432569d7188",
   "metadata": {},
   "outputs": [
    {
     "name": "stdout",
     "output_type": "stream",
     "text": [
      "[1 2 3 4 5]\n"
     ]
    }
   ],
   "source": [
    "array1=np.array([1,2,3,4,5]) #1D Array\n",
    "print(array1)"
   ]
  },
  {
   "cell_type": "code",
   "execution_count": 7,
   "id": "16099abf-b2d2-44d3-8ec8-49a3720c644a",
   "metadata": {},
   "outputs": [
    {
     "name": "stdout",
     "output_type": "stream",
     "text": [
      "[[1 2 3]\n",
      " [4 5 6]]\n"
     ]
    }
   ],
   "source": [
    "array2=np.array([[1,2,3],[4,5,6]])#2D Array\n",
    "print(array2)"
   ]
  },
  {
   "cell_type": "code",
   "execution_count": 8,
   "id": "b6b886d6-3650-477e-b2cb-c8cb9dbaf3c3",
   "metadata": {},
   "outputs": [
    {
     "name": "stdout",
     "output_type": "stream",
     "text": [
      "[[1 2 3]\n",
      " [4 5 6]\n",
      " [7 8 9]]\n"
     ]
    }
   ],
   "source": [
    "array3=np.array([[1,2,3],[4,5,6],[7,8,9]]) #3D Array\n",
    "print(array3)"
   ]
  },
  {
   "cell_type": "code",
   "execution_count": 9,
   "id": "3ae9824f-fcad-46cc-a511-1e166e054e9c",
   "metadata": {},
   "outputs": [
    {
     "name": "stdout",
     "output_type": "stream",
     "text": [
      "[[0. 0. 0.]\n",
      " [0. 0. 0.]]\n"
     ]
    }
   ],
   "source": [
    "zeros=np.zeros((2,3)) #Built in function for zeros\n",
    "print(zeros)"
   ]
  },
  {
   "cell_type": "code",
   "execution_count": 10,
   "id": "31bf290b-90e6-45e4-b0d8-b2f15ab45ee2",
   "metadata": {},
   "outputs": [
    {
     "name": "stdout",
     "output_type": "stream",
     "text": [
      "[[0. 0. 0. 0.]\n",
      " [0. 0. 0. 0.]\n",
      " [0. 0. 0. 0.]\n",
      " [0. 0. 0. 0.]]\n"
     ]
    }
   ],
   "source": [
    "zeros=np.zeros((4,4)) \n",
    "print(zeros)"
   ]
  },
  {
   "cell_type": "code",
   "execution_count": 11,
   "id": "5739b892-415d-4411-9bca-e50d48595e9f",
   "metadata": {},
   "outputs": [
    {
     "name": "stdout",
     "output_type": "stream",
     "text": [
      "[[1. 1. 1. 1.]\n",
      " [1. 1. 1. 1.]\n",
      " [1. 1. 1. 1.]\n",
      " [1. 1. 1. 1.]]\n"
     ]
    }
   ],
   "source": [
    "ones=np.ones((4,4))#Built in function for ones\n",
    "print(ones)"
   ]
  },
  {
   "cell_type": "code",
   "execution_count": 12,
   "id": "8288a541-9480-4c79-a83a-a0f9d8687ad5",
   "metadata": {},
   "outputs": [
    {
     "name": "stdout",
     "output_type": "stream",
     "text": [
      "[[0.16818668 0.62489955]\n",
      " [0.66588264 0.86419868]]\n"
     ]
    }
   ],
   "source": [
    "ra_a=np.random.random((2,2))#Built in function for random\n",
    "print(ra_a)"
   ]
  },
  {
   "cell_type": "code",
   "execution_count": 14,
   "id": "031f020d-e2de-4aa2-a241-3775da7f5cc5",
   "metadata": {},
   "outputs": [
    {
     "name": "stdout",
     "output_type": "stream",
     "text": [
      "[[1. 0. 0.]\n",
      " [0. 1. 0.]\n",
      " [0. 0. 1.]]\n"
     ]
    }
   ],
   "source": [
    "identity=np.eye((3)) #Built in function for identity\n",
    "print(identity)"
   ]
  },
  {
   "cell_type": "code",
   "execution_count": 15,
   "id": "ddde59cd-a55f-4d9d-8eae-f1efb1b2a581",
   "metadata": {},
   "outputs": [
    {
     "name": "stdout",
     "output_type": "stream",
     "text": [
      "[0 2 4 6 8]\n"
     ]
    }
   ],
   "source": [
    "rangee=np.arange(0,10,2)  #start stop step\n",
    "print(rangee)"
   ]
  },
  {
   "cell_type": "code",
   "execution_count": 16,
   "id": "0112d368-3595-4a7b-ab0d-1263de54d572",
   "metadata": {},
   "outputs": [
    {
     "name": "stdout",
     "output_type": "stream",
     "text": [
      "shape: (2, 3)\n",
      "size: 6\n",
      "DataType: int32\n",
      "dimensions: 2\n"
     ]
    }
   ],
   "source": [
    "#shape rows*columns\n",
    "#size no.of elements\n",
    "#dtype -int 64\n",
    "#ndim - dimensiion\n",
    "arr=np.array([[1,2,3],[4,5,6]])\n",
    "print(\"shape:\",arr.shape)\n",
    "print(\"size:\",arr.size)\n",
    "print(\"DataType:\",arr.dtype)\n",
    "print(\"dimensions:\",arr.ndim)"
   ]
  },
  {
   "cell_type": "code",
   "execution_count": 31,
   "id": "ee3b06e1-4dfb-4ab0-86d2-6757a18f1b17",
   "metadata": {},
   "outputs": [
    {
     "data": {
      "text/plain": [
       "array([[2, 3],\n",
       "       [5, 6]])"
      ]
     },
     "execution_count": 31,
     "metadata": {},
     "output_type": "execute_result"
    }
   ],
   "source": [
    "array2=np.array([[1,2,3],[4,5,6]])#2D Array\n",
    "array2[ :, 1:]"
   ]
  },
  {
   "cell_type": "code",
   "execution_count": 41,
   "id": "188fe541-8ebf-43ac-80cf-af04ff38fec2",
   "metadata": {},
   "outputs": [
    {
     "name": "stdout",
     "output_type": "stream",
     "text": [
      "3 5 7 9 "
     ]
    }
   ],
   "source": [
    "a=[1,2,3,4] #addition of lists\n",
    "b=[2,3,4,5]\n",
    "for i in range (len(a)):\n",
    "    print(a[i]+b[i],end=\" \")"
   ]
  },
  {
   "cell_type": "code",
   "execution_count": 46,
   "id": "dfb01c3e-d5b6-4d88-bcc1-829fd332842a",
   "metadata": {},
   "outputs": [
    {
     "name": "stdout",
     "output_type": "stream",
     "text": [
      "[5 7 9]\n",
      "[ 4 10 18]\n",
      "[-3 -3 -3]\n",
      "[0.25 0.4  0.5 ]\n"
     ]
    }
   ],
   "source": [
    "a=np.array([1,2,3])\n",
    "b=np.array([4,5,6])\n",
    "print(a+b) #element wise performs add\n",
    "print(a*b)\n",
    "print(a-b)\n",
    "print(a/b)"
   ]
  },
  {
   "cell_type": "code",
   "execution_count": 47,
   "id": "f3c2bc15-bb50-44fd-8249-ee2baaae800c",
   "metadata": {},
   "outputs": [
    {
     "name": "stdout",
     "output_type": "stream",
     "text": [
      "[[19 22]\n",
      " [43 50]]\n"
     ]
    }
   ],
   "source": [
    "#matrix multiplication with function\n",
    "mat1=np.array([[1,2],[3,4]])\n",
    "mat2=np.array([[5,6],[7,8]])\n",
    "result=np.dot(mat1,mat2)\n",
    "print(result)"
   ]
  },
  {
   "cell_type": "code",
   "execution_count": 48,
   "id": "e74f7f0a-41c9-446e-b64c-d16f6dc34c62",
   "metadata": {},
   "outputs": [
    {
     "name": "stdout",
     "output_type": "stream",
     "text": [
      "[3 4 5]\n"
     ]
    }
   ],
   "source": [
    "#boradcasting\n",
    "a=np.array([1,2,3])\n",
    "b=2\n",
    "print(a+b)"
   ]
  },
  {
   "cell_type": "code",
   "execution_count": 49,
   "id": "bab2c21d-4665-4593-b43e-bf902ed0b647",
   "metadata": {},
   "outputs": [
    {
     "name": "stdout",
     "output_type": "stream",
     "text": [
      "[ 2.71828183  7.3890561  20.08553692]\n",
      "[1.         1.41421356 1.73205081]\n",
      "[0.         0.69314718 1.09861229]\n"
     ]
    }
   ],
   "source": [
    "#universal functions \n",
    "arr=np.array([1,2,3])\n",
    "print(np.exp(arr)) #exponential\n",
    "print(np.sqrt(arr)) #square root\n",
    "print(np.log(arr)) #logarithm"
   ]
  },
  {
   "cell_type": "code",
   "execution_count": 50,
   "id": "f43dac85-0b80-41bf-a111-2abc70e6b739",
   "metadata": {},
   "outputs": [
    {
     "name": "stdout",
     "output_type": "stream",
     "text": [
      "Sum: 10\n",
      "Mean: 2.5\n",
      "Standard Deviation: 1.118033988749895\n",
      "Min: 1\n",
      "Max: 4\n"
     ]
    }
   ],
   "source": [
    "#Aggregation function\n",
    "arr=np.array([1,2,3,4])\n",
    "print(\"Sum:\",np.sum(arr))\n",
    "print(\"Mean:\",np.mean(arr))\n",
    "print(\"Standard Deviation:\",np.std(arr))\n",
    "print(\"Min:\",np.min(arr))\n",
    "print(\"Max:\",np.max(arr))"
   ]
  },
  {
   "cell_type": "code",
   "execution_count": 51,
   "id": "17236a2d-2af9-475e-aa55-68251afe8e19",
   "metadata": {},
   "outputs": [
    {
     "name": "stdout",
     "output_type": "stream",
     "text": [
      "[[1 2 3]\n",
      " [4 5 6]]\n"
     ]
    }
   ],
   "source": [
    "#reshaping the array\n",
    "arr=np.array([1,2,3,4,5,6])\n",
    "reshaped=arr.reshape(2,3)\n",
    "print(reshaped)"
   ]
  },
  {
   "cell_type": "code",
   "execution_count": 54,
   "id": "ab541273-3c00-4a26-a999-d00edeeaeb42",
   "metadata": {},
   "outputs": [
    {
     "name": "stdout",
     "output_type": "stream",
     "text": [
      "[[1 2]\n",
      " [3 4]]\n",
      "[1 2 3 4]\n",
      "[array([1, 2]), array([3, 4]), array([5, 6])]\n"
     ]
    }
   ],
   "source": [
    "#stacking and splitting\n",
    "a=np.array([1,2])\n",
    "b=np.array([3,4])\n",
    "print(np.vstack((a,b))) #vertical stack\n",
    "print(np.hstack((a,b))) #horizontal stack\n",
    "#splitting\n",
    "arr=np.array([1,2,3,4,5,6])\n",
    "print(np.array_split(arr,3))"
   ]
  },
  {
   "cell_type": "code",
   "execution_count": 62,
   "id": "5164fb15-a5b3-416b-a49f-eed51a498db3",
   "metadata": {},
   "outputs": [
    {
     "name": "stdout",
     "output_type": "stream",
     "text": [
      "[10  2  3]\n",
      "[20  2  3]\n"
     ]
    }
   ],
   "source": [
    "#COPY VS VIEW\n",
    "arr=np.array([1,2,3]) #view shares memory\n",
    "view=arr.view()\n",
    "view[0]=10\n",
    "print(view)\n",
    "\n",
    "arr=np.array([1,2,3]) #copy dosen't shares memory\n",
    "copy=arr.copy()\n",
    "copy[0]=20\n",
    "print(copy)"
   ]
  },
  {
   "cell_type": "code",
   "execution_count": null,
   "id": "8403fa04-c281-42f5-a47a-242b5da47568",
   "metadata": {},
   "outputs": [],
   "source": []
  },
  {
   "cell_type": "code",
   "execution_count": 66,
   "id": "ecfed811-1900-4e70-b7ef-fcce23e74b70",
   "metadata": {},
   "outputs": [
    {
     "name": "stdout",
     "output_type": "stream",
     "text": [
      "[10 11 23 31 15 21]\n",
      "[[0.41158316 0.10146818 0.25970936]\n",
      " [0.91007566 0.89648933 0.89653715]\n",
      " [0.38712542 0.0451439  0.08380307]]\n",
      "shape: (6,)\n",
      "size: 6\n",
      "DataType: int32\n",
      "dimensions: 1\n",
      "[15 16 28 36 20 26]\n"
     ]
    }
   ],
   "source": [
    "arr1=np.array([10,11,23,31,15,21])\n",
    "arr3=np.random.random((3,3))\n",
    "print(arr1)\n",
    "print(arr3)\n",
    "print(\"shape:\",arr1.shape)\n",
    "print(\"size:\",arr1.size)\n",
    "print(\"DataType:\",arr1.dtype)\n",
    "print(\"dimensions:\",arr1.ndim)\n",
    "d=5\n",
    "print(arr1+d)\n",
    "array1=np.array([[1,2],[3,4]])\n",
    "array2=np.array([[5,6],[7,8]])\n",
    "result=np.dot(array1,array2)"
   ]
  },
  {
   "cell_type": "markdown",
   "id": "2da9cc67-2447-4a61-aa51-4201cb688d25",
   "metadata": {
    "jp-MarkdownHeadingCollapsed": true
   },
   "source": [
    "array3=np.array([[1,2,3,4,5],[6,7,8,9,10],[11,12,13,14,15],[16,17,18,19,20],[21,22,23,24,25]])\n",
    "print(array3)\n",
    "print(array3[:1])\n",
    "print(array3[4:5])\n",
    "print(array3[:3,:2])"
   ]
  },
  {
   "cell_type": "code",
   "execution_count": 77,
   "id": "86b2f22c-97ff-4e0f-ab39-baa803cf102d",
   "metadata": {},
   "outputs": [
    {
     "data": {
      "text/plain": [
       "20"
      ]
     },
     "execution_count": 77,
     "metadata": {},
     "output_type": "execute_result"
    }
   ],
   "source": [
    "array1=np.array([11,12,13,14,15,16,17,18,19,20])\n",
    "max(array1)\n",
    "min(array"
   ]
  },
  {
   "cell_type": "code",
   "execution_count": null,
   "id": "373d0616-f640-48ec-9595-ded2eed7bae0",
   "metadata": {},
   "outputs": [],
   "source": []
  }
 ],
 "metadata": {
  "kernelspec": {
   "display_name": "Python 3 (ipykernel)",
   "language": "python",
   "name": "python3"
  },
  "language_info": {
   "codemirror_mode": {
    "name": "ipython",
    "version": 3
   },
   "file_extension": ".py",
   "mimetype": "text/x-python",
   "name": "python",
   "nbconvert_exporter": "python",
   "pygments_lexer": "ipython3",
   "version": "3.12.7"
  }
 },
 "nbformat": 4,
 "nbformat_minor": 5
}
