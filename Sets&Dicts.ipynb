{
 "cells": [
  {
   "cell_type": "code",
   "execution_count": null,
   "id": "6de641a8-5791-448d-a7a5-fdf4c8be4afb",
   "metadata": {},
   "outputs": [],
   "source": [
    "#SETS AND DICTS"
   ]
  },
  {
   "cell_type": "code",
   "execution_count": 2,
   "id": "0637e953-35dc-447d-b9a0-5d3c8f55bc05",
   "metadata": {},
   "outputs": [
    {
     "data": {
      "text/plain": [
       "{1, 4, 7, 32, 63}"
      ]
     },
     "execution_count": 2,
     "metadata": {},
     "output_type": "execute_result"
    }
   ],
   "source": [
    "a={1,7,4,32,63,1}\n",
    "a"
   ]
  },
  {
   "cell_type": "code",
   "execution_count": 4,
   "id": "a5c07bc5-9471-406b-b427-fdaf29c2a1e0",
   "metadata": {},
   "outputs": [
    {
     "name": "stdout",
     "output_type": "stream",
     "text": [
      "{1, 2, 3, 4, 5, 6, 7, 8}\n"
     ]
    },
    {
     "data": {
      "text/plain": [
       "{1, 2, 3, 4, 5, 6, 7, 8}"
      ]
     },
     "execution_count": 4,
     "metadata": {},
     "output_type": "execute_result"
    }
   ],
   "source": [
    "#parallel operator | unoion operator\n",
    "a={1,2,3,4,5}\n",
    "b={4,5,6,7,8}\n",
    "print(a|b)\n",
    "b.union(a) #usinf function"
   ]
  },
  {
   "cell_type": "code",
   "execution_count": 5,
   "id": "e45fe461-d6df-4ada-9822-d53963c75587",
   "metadata": {},
   "outputs": [
    {
     "name": "stdout",
     "output_type": "stream",
     "text": [
      "{4, 5}\n"
     ]
    },
    {
     "data": {
      "text/plain": [
       "{4, 5}"
      ]
     },
     "execution_count": 5,
     "metadata": {},
     "output_type": "execute_result"
    }
   ],
   "source": [
    "#intersection\n",
    "a={1,2,3,4,5}\n",
    "b={4,5,6,7,8}\n",
    "print(a&b)\n",
    "a.intersection(b)  #usinf function"
   ]
  },
  {
   "cell_type": "code",
   "execution_count": 7,
   "id": "5cf866fa-3540-42ee-8a2f-7339784fbc05",
   "metadata": {},
   "outputs": [
    {
     "name": "stdout",
     "output_type": "stream",
     "text": [
      "{1, 2, 3}\n",
      "{8, 6, 7}\n"
     ]
    },
    {
     "data": {
      "text/plain": [
       "{1, 2, 3}"
      ]
     },
     "execution_count": 7,
     "metadata": {},
     "output_type": "execute_result"
    }
   ],
   "source": [
    "a={1,2,3,4,5}\n",
    "b={4,5,6,7,8}\n",
    "print(a-b)\n",
    "print(b-a)                                                                                   \n",
    "a.difference(b) #using function"
   ]
  },
  {
   "cell_type": "code",
   "execution_count": 8,
   "id": "a84ea0b4-a0a1-4d97-ab0a-8928a92245a3",
   "metadata": {},
   "outputs": [
    {
     "name": "stdout",
     "output_type": "stream",
     "text": [
      "{1, 2, 3, 6, 7, 8}\n"
     ]
    },
    {
     "data": {
      "text/plain": [
       "{1, 2, 3, 6, 7, 8}"
      ]
     },
     "execution_count": 8,
     "metadata": {},
     "output_type": "execute_result"
    }
   ],
   "source": [
    "#symmetric difference\n",
    "a={1,2,3,4,5}\n",
    "b={4,5,6,7,8}\n",
    "print(a^b)\n",
    "a.symmetric_difference(b) #uing funcion"
   ]
  },
  {
   "cell_type": "code",
   "execution_count": 12,
   "id": "02c36aa0-0530-4976-9a7c-a6fa365db0a3",
   "metadata": {},
   "outputs": [
    {
     "name": "stdout",
     "output_type": "stream",
     "text": [
      "{'nayak', 'surya', 'harsha', 'kailash', 'vardhan', 'kashi', 'babu', 'shiva', 'sudheer'}\n",
      "{'shiva', 'kashi'}\n",
      "{'kailash', 'sudheer', 'babu', 'vardhan'}\n"
     ]
    },
    {
     "data": {
      "text/plain": [
       "{'babu', 'harsha', 'kailash', 'nayak', 'sudheer', 'surya', 'vardhan'}"
      ]
     },
     "execution_count": 12,
     "metadata": {},
     "output_type": "execute_result"
    }
   ],
   "source": [
    "cs_students={\"harsha\",\"nayak\",\"surya\",\"shiva\",\"kashi\"}\n",
    "it_students={\"shiva\",\"kailash\",\"vardhan\",\"babu\",\"sudheer\",\"kashi\"}\n",
    "print(cs_students|it_students)\n",
    "print(cs_students&it_students)\n",
    "print(it_students-cs_students)\n",
    "cs_students.symmetric_difference(it_students)"
   ]
  },
  {
   "cell_type": "code",
   "execution_count": 22,
   "id": "4b2a062c-0696-4ed1-b566-7d761a076005",
   "metadata": {},
   "outputs": [
    {
     "name": "stdout",
     "output_type": "stream",
     "text": [
      "{'a': 1, 'b': 2, 'c': 3, 'd': 4, 'e': 5}\n",
      "dict_keys(['a', 'b', 'c', 'd', 'e'])\n",
      "dict_values([1, 2, 3, 4, 5])\n",
      "{'a': 6, 'b': 2, 'c': 3, 'd': 4, 'e': 5}\n"
     ]
    },
    {
     "data": {
      "text/plain": [
       "{'a': 6, 'b': 2, 'c': 3, 'd': 4, 'e': 5, 'f': 7}"
      ]
     },
     "execution_count": 22,
     "metadata": {},
     "output_type": "execute_result"
    }
   ],
   "source": [
    "#dictonaries:\n",
    "''' items(). keys(), values(), '''\n",
    "dict1={'a':1,'b':2,'c':3,'d':4,'e':5}\n",
    "print(dict1)\n",
    "print(dict1.keys())\n",
    "print(dict1.values())\n",
    "dict1['a']=6\n",
    "print(dict1)\n",
    "dict1['f']=7\n",
    "dict1"
   ]
  },
  {
   "cell_type": "code",
   "execution_count": 47,
   "id": "1b1a580b-3eb2-421d-adba-cd9e61d40d39",
   "metadata": {},
   "outputs": [
    {
     "name": "stdout",
     "output_type": "stream",
     "text": [
      "dict_items([('amit', 85), ('sneha', 92), ('rahul', 78), ('divya', 90), ('mehul', 67)])\n",
      "{'amit': 85, 'sneha': 92, 'rahul': 78, 'divya': 90, 'mehul': 67, 'Tanvi': 88}\n",
      "{'amit': 85, 'sneha': 92, 'rahul': 78, 'divya': 90, 'mehul': 72, 'Tanvi': 88}\n",
      "{'amit': 85, 'sneha': 92, 'divya': 90, 'mehul': 72, 'Tanvi': 88}\n",
      "sneha\n",
      "427\n"
     ]
    },
    {
     "data": {
      "text/plain": [
       "85"
      ]
     },
     "execution_count": 47,
     "metadata": {},
     "output_type": "execute_result"
    }
   ],
   "source": [
    "smarks={\"amit\":85,\"sneha\":92,\"rahul\":78,\"divya\":90,\"mehul\":67}\n",
    "print(smarks.items())\n",
    "smarks[\"Tanvi\"]=88\n",
    "print(smarks)\n",
    "smarks[\"mehul\"]=72\n",
    "print(smarks)\n",
    "smarks.pop(\"rahul\")\n",
    "print(smarks)\n",
    "print(max(smarks))\n",
    "total=sum(smarks.values())\n",
    "print(total)\n",
    "avg=total/len(smarks)\n",
    "round(avg)"
   ]
  },
  {
   "cell_type": "code",
   "execution_count": 49,
   "id": "06c6bf4c-79b0-43a6-a51e-a109730f6a99",
   "metadata": {},
   "outputs": [
    {
     "name": "stdin",
     "output_type": "stream",
     "text": [
      "Enter length: 2\n",
      "Enter breadth: 4\n"
     ]
    },
    {
     "name": "stdout",
     "output_type": "stream",
     "text": [
      "Area of rectangle: 8\n",
      "perimeter of rectangle: 12\n"
     ]
    }
   ],
   "source": [
    "#functions ---------\n",
    "#calculate the area and circumference of the rectangle\n",
    "#without arguments and without return\n",
    "def area_rec():\n",
    "    l=int(input(\"Enter length:\"))\n",
    "    b=int(input(\"Enter breadth:\"))\n",
    "    print(\"Area of rectangle:\",l*b)\n",
    "    print(\"perimeter of rectangle:\",2*(l+b))\n",
    "area_rec();"
   ]
  },
  {
   "cell_type": "code",
   "execution_count": 60,
   "id": "94a5b227-d9f9-4f76-90b1-29f5e0408fa7",
   "metadata": {},
   "outputs": [
    {
     "name": "stdin",
     "output_type": "stream",
     "text": [
      "Enter the number: 5\n"
     ]
    },
    {
     "name": "stdout",
     "output_type": "stream",
     "text": [
      "120\n"
     ]
    }
   ],
   "source": [
    "#with argument and without return\n",
    "#factorial of the given number\n",
    "def fact(s):\n",
    "    fact=1\n",
    "    for i in range(1,n+1):\n",
    "        fact=fact*i\n",
    "    print(fact)\n",
    "n=int(input(\"Enter the number:\"))\n",
    "fact(n);\n",
    "\n"
   ]
  },
  {
   "cell_type": "code",
   "execution_count": 65,
   "id": "90d2c8c4-dae6-451b-a902-883d2f3ea785",
   "metadata": {},
   "outputs": [
    {
     "name": "stdin",
     "output_type": "stream",
     "text": [
      "Enter the number: 5\n"
     ]
    },
    {
     "name": "stdout",
     "output_type": "stream",
     "text": [
      "factorial of 5 is : 120\n"
     ]
    }
   ],
   "source": [
    "#function with arguments and with return\n",
    "def fact(s):\n",
    "    fact=1\n",
    "    for i in range(1,n+1):\n",
    "        fact=fact*i\n",
    "    return fact\n",
    "n=int(input(\"Enter the number:\"))\n",
    "s=fact(n);\n",
    "print(f\"factorial of {n} is :\",s)"
   ]
  },
  {
   "cell_type": "code",
   "execution_count": 66,
   "id": "d94c92b3-058d-43ac-9765-8f7f11bab357",
   "metadata": {},
   "outputs": [
    {
     "name": "stdin",
     "output_type": "stream",
     "text": [
      "enter the value: 5\n"
     ]
    },
    {
     "name": "stdout",
     "output_type": "stream",
     "text": [
      "factorial of 5 is : 120\n"
     ]
    }
   ],
   "source": [
    "#without argunments and with return \n",
    "def fact():\n",
    "    n=int(input(\"enter the value:\"))\n",
    "    fact=1\n",
    "    for i in range(1,n+1):\n",
    "        fact=fact*i\n",
    "    return fact\n",
    "s=fact();\n",
    "print(f\"factorial of {n} is :\",s)"
   ]
  },
  {
   "cell_type": "code",
   "execution_count": 69,
   "id": "83360988-87dd-4d93-82ef-d14531d3bd4a",
   "metadata": {},
   "outputs": [
    {
     "name": "stdin",
     "output_type": "stream",
     "text": [
      "Enter employee number : 101\n",
      "Enter employee name : shiva\n",
      "Employee salary : 12000\n"
     ]
    },
    {
     "name": "stdout",
     "output_type": "stream",
     "text": [
      "Emp Number : 101\n",
      "Emp Name : shiva\n",
      "Emp salary : 12000\n"
     ]
    }
   ],
   "source": [
    "# oops \n",
    "class emp:\n",
    "    def empdata(self):\n",
    "        self.eno=int(input(\"Enter employee number :\"))\n",
    "        self.ename=input(\"Enter employee name :\")\n",
    "        self.esal=int(input(\"Employee salary :\"))\n",
    "    def edis(self):\n",
    "        print(\"Emp Number :\",self.eno)\n",
    "        print(\"Emp Name :\",self.ename)\n",
    "        print(\"Emp salary :\", self.esal)\n",
    "e=emp()\n",
    "e.empdata()\n",
    "e.edis()"
   ]
  },
  {
   "cell_type": "code",
   "execution_count": null,
   "id": "d7d0decb-b6de-41bf-9a3e-25f3a02a1397",
   "metadata": {},
   "outputs": [],
   "source": []
  }
 ],
 "metadata": {
  "kernelspec": {
   "display_name": "Python 3 (ipykernel)",
   "language": "python",
   "name": "python3"
  },
  "language_info": {
   "codemirror_mode": {
    "name": "ipython",
    "version": 3
   },
   "file_extension": ".py",
   "mimetype": "text/x-python",
   "name": "python",
   "nbconvert_exporter": "python",
   "pygments_lexer": "ipython3",
   "version": "3.12.7"
  }
 },
 "nbformat": 4,
 "nbformat_minor": 5
}
