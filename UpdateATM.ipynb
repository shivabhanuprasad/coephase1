{
 "cells": [
  {
   "cell_type": "code",
   "execution_count": 1,
   "id": "0647a3c0-3717-4795-b809-735a2e23faec",
   "metadata": {},
   "outputs": [
    {
     "name": "stdout",
     "output_type": "stream",
     "text": [
      "\n",
      "=== Welcome to Python Simple ATM ===\n",
      "1. Set PIN\n",
      "2. Enter PIN\n",
      "3. Exit\n"
     ]
    },
    {
     "name": "stdin",
     "output_type": "stream",
     "text": [
      "Choose an option:  1\n",
      "Set 4-digit PIN:  6666\n"
     ]
    },
    {
     "name": "stdout",
     "output_type": "stream",
     "text": [
      "PIN set successfully.\n",
      "\n",
      "=== Welcome to Python Simple ATM ===\n",
      "1. Set PIN\n",
      "2. Enter PIN\n",
      "3. Exit\n"
     ]
    },
    {
     "name": "stdin",
     "output_type": "stream",
     "text": [
      "Choose an option:  2\n",
      "Enter your pin:  6666\n"
     ]
    },
    {
     "name": "stdout",
     "output_type": "stream",
     "text": [
      "Correct PIN.\n",
      "\n",
      "Select an option:\n",
      "1. Withdraw\n",
      "2. Deposit\n",
      "3. Check Balance\n",
      "4. Exit\n"
     ]
    },
    {
     "name": "stdin",
     "output_type": "stream",
     "text": [
      "Your choice:  3\n"
     ]
    },
    {
     "name": "stdout",
     "output_type": "stream",
     "text": [
      "Your current balance is ₹10000\n",
      "\n",
      "Select an option:\n",
      "1. Withdraw\n",
      "2. Deposit\n",
      "3. Check Balance\n",
      "4. Exit\n"
     ]
    },
    {
     "name": "stdin",
     "output_type": "stream",
     "text": [
      "Your choice:  2\n",
      "Enter amount to deposit: ₹ 50000\n"
     ]
    },
    {
     "name": "stdout",
     "output_type": "stream",
     "text": [
      "Maximum deposit limit per transaction is ₹20,000.\n",
      "\n",
      "Select an option:\n",
      "1. Withdraw\n",
      "2. Deposit\n",
      "3. Check Balance\n",
      "4. Exit\n"
     ]
    },
    {
     "name": "stdin",
     "output_type": "stream",
     "text": [
      "Your choice:  4\n"
     ]
    },
    {
     "name": "stdout",
     "output_type": "stream",
     "text": [
      "Exiting to main menu...\n",
      "\n",
      "=== Welcome to Python Simple ATM ===\n",
      "1. Set PIN\n",
      "2. Enter PIN\n",
      "3. Exit\n"
     ]
    },
    {
     "name": "stdin",
     "output_type": "stream",
     "text": [
      "Choose an option:  3\n"
     ]
    },
    {
     "name": "stdout",
     "output_type": "stream",
     "text": [
      "Thank you for using the ATM. Bye.\n"
     ]
    }
   ],
   "source": [
    "pin = \"\"\n",
    "balance = 10000  \n",
    "\n",
    "def set_pin():\n",
    "    global pin\n",
    "    if pin != \"\":\n",
    "        print(\"PIN is already set.\")\n",
    "        return\n",
    "    pin_input = input(\"Set 4-digit PIN: \")\n",
    "    if len(pin_input) == 4 and pin_input.isdigit():\n",
    "        pin = pin_input\n",
    "        print(\"PIN set successfully.\")\n",
    "    else:\n",
    "        print(\"Please enter a valid 4-digit number.\")\n",
    "        set_pin()\n",
    "\n",
    "def check_pin():\n",
    "    tries = 3\n",
    "    while tries > 0:\n",
    "        entered = input(\"Enter your pin: \")\n",
    "        if entered == pin:\n",
    "            print(\"Correct PIN.\")\n",
    "            show_options()\n",
    "            return\n",
    "        else:\n",
    "            tries -= 1\n",
    "            print(f\"Wrong PIN. You have {tries} tries left.\")\n",
    "    print(\"Too many wrong tries. Exiting...\")\n",
    "    exit()\n",
    "\n",
    "def withdraw():\n",
    "    global balance\n",
    "    amount = input(\"Enter amount to withdraw: ₹\")\n",
    "    if amount.isdigit():\n",
    "        amount = int(amount)\n",
    "        if amount % 100 != 0:\n",
    "            print(\"Only ₹100 multiples allowed.\")\n",
    "        elif amount > 20000:\n",
    "            print(\"Maximum withdrawal limit per transaction is ₹20,000.\")\n",
    "        elif amount > balance:\n",
    "            print(\"Not enough money in the account.\")\n",
    "        else:\n",
    "            balance -= amount\n",
    "            print(f\"₹{amount} withdrawn.\")\n",
    "            print(f\"Balance: ₹{balance}\")\n",
    "    else:\n",
    "        print(\"Invalid amount entered.\")\n",
    "\n",
    "def deposit():\n",
    "    global balance\n",
    "    amount = input(\"Enter amount to deposit: ₹\")\n",
    "    if amount.isdigit():\n",
    "        amount = int(amount)\n",
    "        if amount % 100 != 0:\n",
    "            print(\"Only ₹100 multiples allowed.\")\n",
    "        elif amount > 20000:\n",
    "            print(\"Maximum deposit limit per transaction is ₹20,000.\")\n",
    "        else:\n",
    "            balance += amount\n",
    "            print(f\"₹{amount} deposited.\")\n",
    "            print(f\"Balance: ₹{balance}\")\n",
    "    else:\n",
    "        print(\"Invalid amount entered.\")\n",
    "\n",
    "def show_balance():\n",
    "    print(f\"Your current balance is ₹{balance}\")\n",
    "\n",
    "def show_options():\n",
    "    while True:\n",
    "        print(\"\\nSelect an option:\")\n",
    "        print(\"1. Withdraw\")\n",
    "        print(\"2. Deposit\")\n",
    "        print(\"3. Check Balance\")\n",
    "        print(\"4. Exit\")\n",
    "        choice = input(\"Your choice: \")\n",
    "\n",
    "        if choice == '1':\n",
    "            withdraw()\n",
    "        elif choice == '2':\n",
    "            deposit()\n",
    "        elif choice == '3':\n",
    "            show_balance()\n",
    "        elif choice == '4':\n",
    "            print(\"Exiting to main menu...\")\n",
    "            break\n",
    "        else:\n",
    "            print(\"Please choose a valid option.\")\n",
    "\n",
    "def main():\n",
    "    while True:\n",
    "        print(\"\\n=== Welcome to Python Simple ATM ===\")\n",
    "        print(\"1. Set PIN\")\n",
    "        print(\"2. Enter PIN\")\n",
    "        print(\"3. Exit\")\n",
    "        option = input(\"Choose an option: \")\n",
    "\n",
    "        if option == '1':\n",
    "            set_pin()\n",
    "        elif option == '2':\n",
    "            if pin == \"\":\n",
    "                print(\"Please set your PIN first ❗\")\n",
    "            else:\n",
    "                check_pin()\n",
    "        elif option == '3':\n",
    "            print(\"Thank you for using the ATM. Bye.\")\n",
    "            break\n",
    "        else:\n",
    "            print(\"Invalid option. Try again.\")\n",
    "\n",
    "main()\n"
   ]
  },
  {
   "cell_type": "code",
   "execution_count": 2,
   "id": "5d82298b-3b0f-4e17-a62d-016cd28b2cc4",
   "metadata": {},
   "outputs": [
    {
     "name": "stdout",
     "output_type": "stream",
     "text": [
      "\n",
      "=== Welcome to Python Simple ATM ===\n",
      "1. Set PIN\n",
      "2. Enter PIN\n",
      "3. Exit\n"
     ]
    },
    {
     "name": "stdin",
     "output_type": "stream",
     "text": [
      "Choose an option:  1\n",
      "Set 4-digit PIN:  6666\n"
     ]
    },
    {
     "name": "stdout",
     "output_type": "stream",
     "text": [
      "PIN set successfully.\n",
      "\n",
      "=== Welcome to Python Simple ATM ===\n",
      "1. Set PIN\n",
      "2. Enter PIN\n",
      "3. Exit\n"
     ]
    },
    {
     "name": "stdin",
     "output_type": "stream",
     "text": [
      "Choose an option:  2\n",
      "Enter your pin:  6666\n"
     ]
    },
    {
     "name": "stdout",
     "output_type": "stream",
     "text": [
      "Correct PIN.\n",
      "\n",
      "Select an option:\n",
      "1. Withdraw\n",
      "2. Deposit\n",
      "3. Check Balance\n",
      "4. Exit\n"
     ]
    },
    {
     "name": "stdin",
     "output_type": "stream",
     "text": [
      "Your choice:  3\n"
     ]
    },
    {
     "name": "stdout",
     "output_type": "stream",
     "text": [
      "Your current balance is ₹10000\n",
      "\n",
      "Select an option:\n",
      "1. Withdraw\n",
      "2. Deposit\n",
      "3. Check Balance\n",
      "4. Exit\n"
     ]
    },
    {
     "name": "stdin",
     "output_type": "stream",
     "text": [
      "Your choice:  2\n",
      "Enter amount to deposit: ₹ 50000\n"
     ]
    },
    {
     "name": "stdout",
     "output_type": "stream",
     "text": [
      "₹50000 deposited.\n",
      "Balance: ₹60000\n",
      "\n",
      "Select an option:\n",
      "1. Withdraw\n",
      "2. Deposit\n",
      "3. Check Balance\n",
      "4. Exit\n"
     ]
    },
    {
     "name": "stdin",
     "output_type": "stream",
     "text": [
      "Your choice:  1\n",
      "Enter amount to withdraw: ₹ 20000\n"
     ]
    },
    {
     "name": "stdout",
     "output_type": "stream",
     "text": [
      "₹20000 withdrawn.\n",
      "Balance: ₹40000\n",
      "\n",
      "Select an option:\n",
      "1. Withdraw\n",
      "2. Deposit\n",
      "3. Check Balance\n",
      "4. Exit\n"
     ]
    },
    {
     "name": "stdin",
     "output_type": "stream",
     "text": [
      "Your choice:  1\n",
      "Enter amount to withdraw: ₹ 20000\n"
     ]
    },
    {
     "name": "stdout",
     "output_type": "stream",
     "text": [
      "₹20000 withdrawn.\n",
      "Balance: ₹20000\n",
      "\n",
      "Select an option:\n",
      "1. Withdraw\n",
      "2. Deposit\n",
      "3. Check Balance\n",
      "4. Exit\n"
     ]
    },
    {
     "name": "stdin",
     "output_type": "stream",
     "text": [
      "Your choice:  2\n",
      "Enter amount to deposit: ₹ 50000\n"
     ]
    },
    {
     "name": "stdout",
     "output_type": "stream",
     "text": [
      "₹50000 deposited.\n",
      "Balance: ₹70000\n",
      "\n",
      "Select an option:\n",
      "1. Withdraw\n",
      "2. Deposit\n",
      "3. Check Balance\n",
      "4. Exit\n"
     ]
    },
    {
     "name": "stdin",
     "output_type": "stream",
     "text": [
      "Your choice:  30000\n"
     ]
    },
    {
     "name": "stdout",
     "output_type": "stream",
     "text": [
      "Please choose a valid option.\n",
      "\n",
      "Select an option:\n",
      "1. Withdraw\n",
      "2. Deposit\n",
      "3. Check Balance\n",
      "4. Exit\n"
     ]
    },
    {
     "name": "stdin",
     "output_type": "stream",
     "text": [
      "Your choice:  2\n",
      "Enter amount to deposit: ₹ 1000\n"
     ]
    },
    {
     "name": "stdout",
     "output_type": "stream",
     "text": [
      "₹1000 deposited.\n",
      "Balance: ₹71000\n",
      "\n",
      "Select an option:\n",
      "1. Withdraw\n",
      "2. Deposit\n",
      "3. Check Balance\n",
      "4. Exit\n"
     ]
    },
    {
     "name": "stdin",
     "output_type": "stream",
     "text": [
      "Your choice:  1\n",
      "Enter amount to withdraw: ₹ 30000\n"
     ]
    },
    {
     "name": "stdout",
     "output_type": "stream",
     "text": [
      "Maximum withdrawal limit per transaction is ₹20,000.\n",
      "\n",
      "Select an option:\n",
      "1. Withdraw\n",
      "2. Deposit\n",
      "3. Check Balance\n",
      "4. Exit\n"
     ]
    },
    {
     "name": "stdin",
     "output_type": "stream",
     "text": [
      "Your choice:  4\n"
     ]
    },
    {
     "name": "stdout",
     "output_type": "stream",
     "text": [
      "Exiting to main menu...\n",
      "\n",
      "=== Welcome to Python Simple ATM ===\n",
      "1. Set PIN\n",
      "2. Enter PIN\n",
      "3. Exit\n"
     ]
    },
    {
     "name": "stdin",
     "output_type": "stream",
     "text": [
      "Choose an option:  3\n"
     ]
    },
    {
     "name": "stdout",
     "output_type": "stream",
     "text": [
      "Thank you for using the ATM. Bye.\n"
     ]
    }
   ],
   "source": [
    "pin = \"\"\n",
    "balance = 10000  \n",
    "def set_pin():\n",
    "    global pin\n",
    "    if pin != \"\":\n",
    "        print(\"PIN is already set.\")\n",
    "        return\n",
    "    pin_input = input(\"Set 4-digit PIN: \")\n",
    "    if len(pin_input) == 4 and pin_input.isdigit():\n",
    "        pin = pin_input\n",
    "        print(\"PIN set successfully.\")\n",
    "    else:\n",
    "        print(\"Please enter a valid 4-digit number.\")\n",
    "        set_pin()\n",
    "\n",
    "def check_pin():\n",
    "    tries = 3\n",
    "    while tries > 0:\n",
    "        entered = input(\"Enter your pin: \")\n",
    "        if entered == pin:\n",
    "            print(\"Correct PIN.\")\n",
    "            show_options()\n",
    "            return\n",
    "        else:\n",
    "            tries -= 1\n",
    "            print(f\"Wrong PIN. You have {tries} tries left.\")\n",
    "    print(\"Too many wrong tries. Exiting...\")\n",
    "    exit()\n",
    "\n",
    "def withdraw():\n",
    "    global balance\n",
    "    amount = input(\"Enter amount to withdraw: ₹\")\n",
    "    if amount.isdigit():\n",
    "        amount = int(amount)\n",
    "        if amount % 100 != 0:\n",
    "            print(\"Only ₹100 multiples allowed.\")\n",
    "        elif amount > 20000:\n",
    "            print(\"Maximum withdrawal limit per transaction is ₹20,000.\")\n",
    "        elif amount > balance:\n",
    "            print(\"Not enough money in the account.\")\n",
    "        else:\n",
    "            balance -= amount\n",
    "            print(f\"₹{amount} withdrawn.\")\n",
    "            print(f\"Balance: ₹{balance}\")\n",
    "    else:\n",
    "        print(\"Invalid amount entered.\")\n",
    "\n",
    "def deposit():\n",
    "    global balance\n",
    "    amount = input(\"Enter amount to deposit: ₹\")\n",
    "    if amount.isdigit():\n",
    "        amount = int(amount)\n",
    "        if amount % 100 != 0:\n",
    "            print(\"Only ₹100 multiples allowed.\")\n",
    "        balance += amount\n",
    "        print(f\"₹{amount} deposited.\")\n",
    "        print(f\"Balance: ₹{balance}\")\n",
    "    else:\n",
    "        print(\"Invalid amount entered.\")\n",
    "\n",
    "def show_balance():\n",
    "    print(f\"Your current balance is ₹{balance}\")\n",
    "\n",
    "def show_options():\n",
    "    while True:\n",
    "        print(\"\\nSelect an option:\")\n",
    "        print(\"1. Withdraw\")\n",
    "        print(\"2. Deposit\")\n",
    "        print(\"3. Check Balance\")\n",
    "        print(\"4. Exit\")\n",
    "        choice = input(\"Your choice: \")\n",
    "\n",
    "        if choice == '1':\n",
    "            withdraw()\n",
    "        elif choice == '2':\n",
    "            deposit()\n",
    "        elif choice == '3':\n",
    "            show_balance()\n",
    "        elif choice == '4':\n",
    "            print(\"Exiting to main menu...\")\n",
    "            break\n",
    "        else:\n",
    "            print(\"Please choose a valid option.\")\n",
    "\n",
    "def main():\n",
    "    while True:\n",
    "        print(\"\\n=== Welcome to Python Simple ATM ===\")\n",
    "        print(\"1. Set PIN\")\n",
    "        print(\"2. Enter PIN\")\n",
    "        print(\"3. Exit\")\n",
    "        option = input(\"Choose an option: \")\n",
    "\n",
    "        if option == '1':\n",
    "            set_pin()\n",
    "        elif option == '2':\n",
    "            if pin == \"\":\n",
    "                print(\"Please set your PIN first ❗\")\n",
    "            else:\n",
    "                check_pin()\n",
    "        elif option == '3':\n",
    "            print(\"Thank you for using the ATM. Bye.\")\n",
    "            break\n",
    "        else:\n",
    "            print(\"Invalid option. Try again.\")\n",
    "\n",
    "main()\n"
   ]
  },
  {
   "cell_type": "code",
   "execution_count": null,
   "id": "befdd5bd-933c-463b-a62c-90501a9c5019",
   "metadata": {},
   "outputs": [],
   "source": []
  }
 ],
 "metadata": {
  "kernelspec": {
   "display_name": "Python 3 (ipykernel)",
   "language": "python",
   "name": "python3"
  },
  "language_info": {
   "codemirror_mode": {
    "name": "ipython",
    "version": 3
   },
   "file_extension": ".py",
   "mimetype": "text/x-python",
   "name": "python",
   "nbconvert_exporter": "python",
   "pygments_lexer": "ipython3",
   "version": "3.12.10"
  }
 },
 "nbformat": 4,
 "nbformat_minor": 5
}
