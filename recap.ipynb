{
 "cells": [
  {
   "cell_type": "code",
   "execution_count": 2,
   "id": "44e5daa2-9cce-4264-9ba2-506561fc4b1e",
   "metadata": {},
   "outputs": [
    {
     "name": "stdout",
     "output_type": "stream",
     "text": [
      "['False', 'None', 'True', 'and', 'as', 'assert', 'async', 'await', 'break', 'class', 'continue', 'def', 'del', 'elif', 'else', 'except', 'finally', 'for', 'from', 'global', 'if', 'import', 'in', 'is', 'lambda', 'nonlocal', 'not', 'or', 'pass', 'raise', 'return', 'try', 'while', 'with', 'yield']\n"
     ]
    }
   ],
   "source": [
    "import keyword\n",
    "print(keyword.kwlist)"
   ]
  },
  {
   "cell_type": "code",
   "execution_count": 3,
   "id": "1acfd7f6-8d14-4024-b6a7-3ecba42f5eff",
   "metadata": {},
   "outputs": [
    {
     "data": {
      "text/plain": [
       "20"
      ]
     },
     "execution_count": 3,
     "metadata": {},
     "output_type": "execute_result"
    }
   ],
   "source": [
    "#calculation through python..\n",
    "2*10"
   ]
  },
  {
   "cell_type": "code",
   "execution_count": 4,
   "id": "c34e7f17-adf2-4249-b32a-fd70f3dbca29",
   "metadata": {},
   "outputs": [
    {
     "data": {
      "text/plain": [
       "16"
      ]
     },
     "execution_count": 4,
     "metadata": {},
     "output_type": "execute_result"
    }
   ],
   "source": [
    "3+4+9"
   ]
  },
  {
   "cell_type": "code",
   "execution_count": 5,
   "id": "70720f66-9f82-4b37-aeb0-f98acca3bef9",
   "metadata": {},
   "outputs": [
    {
     "data": {
      "text/plain": [
       "8"
      ]
     },
     "execution_count": 5,
     "metadata": {},
     "output_type": "execute_result"
    }
   ],
   "source": [
    "2**3"
   ]
  },
  {
   "cell_type": "code",
   "execution_count": 12,
   "id": "5f13bfda-86d6-47fb-a69f-c982a798f517",
   "metadata": {},
   "outputs": [
    {
     "data": {
      "text/plain": [
       "1.8"
      ]
     },
     "execution_count": 12,
     "metadata": {},
     "output_type": "execute_result"
    }
   ],
   "source": [
    "9/5"
   ]
  },
  {
   "cell_type": "code",
   "execution_count": 13,
   "id": "d796c6b3-7906-4ebf-8ac0-b803db44ff09",
   "metadata": {},
   "outputs": [
    {
     "data": {
      "text/plain": [
       "int"
      ]
     },
     "execution_count": 13,
     "metadata": {},
     "output_type": "execute_result"
    }
   ],
   "source": [
    "#type of data checking..\n",
    "type(10)"
   ]
  },
  {
   "cell_type": "code",
   "execution_count": 14,
   "id": "d40bd41f-5034-4592-8229-42a132bd4248",
   "metadata": {},
   "outputs": [
    {
     "data": {
      "text/plain": [
       "float"
      ]
     },
     "execution_count": 14,
     "metadata": {},
     "output_type": "execute_result"
    }
   ],
   "source": [
    "type(10.0)"
   ]
  },
  {
   "cell_type": "code",
   "execution_count": 15,
   "id": "4a99926a-6476-4ab2-a0e9-bae01c137691",
   "metadata": {},
   "outputs": [
    {
     "data": {
      "text/plain": [
       "str"
      ]
     },
     "execution_count": 15,
     "metadata": {},
     "output_type": "execute_result"
    }
   ],
   "source": [
    "type('abc')"
   ]
  },
  {
   "cell_type": "code",
   "execution_count": 16,
   "id": "4eb2fed6-bf02-41cc-8eff-188a928ec18d",
   "metadata": {},
   "outputs": [
    {
     "data": {
      "text/plain": [
       "bool"
      ]
     },
     "execution_count": 16,
     "metadata": {},
     "output_type": "execute_result"
    }
   ],
   "source": [
    "type(True)"
   ]
  },
  {
   "cell_type": "code",
   "execution_count": 19,
   "id": "7e8245a9-0f25-4c76-8748-89b10cbcaaf3",
   "metadata": {},
   "outputs": [
    {
     "data": {
      "text/plain": [
       "10"
      ]
     },
     "execution_count": 19,
     "metadata": {},
     "output_type": "execute_result"
    }
   ],
   "source": [
    "#variables\n",
    "shi=10\n",
    "shi"
   ]
  },
  {
   "cell_type": "code",
   "execution_count": 20,
   "id": "5c6211a3-8b40-48e0-9290-02cb45be96c5",
   "metadata": {},
   "outputs": [],
   "source": [
    "#multiple assigment\n",
    "a=b=c=1\n",
    "a,b,c=1,2,'kashi'"
   ]
  },
  {
   "cell_type": "code",
   "execution_count": 28,
   "id": "d85f2fff-3bb8-432f-bddd-8e84ae738c48",
   "metadata": {},
   "outputs": [
    {
     "name": "stdout",
     "output_type": "stream",
     "text": [
      "Welcome\n"
     ]
    }
   ],
   "source": [
    "#outputs\n",
    "print('Welcome')"
   ]
  },
  {
   "cell_type": "code",
   "execution_count": 25,
   "id": "285d9970-f5ea-4918-92be-61bf202a3e8e",
   "metadata": {},
   "outputs": [
    {
     "name": "stdout",
     "output_type": "stream",
     "text": [
      "The value of a is 5\n"
     ]
    }
   ],
   "source": [
    "a=5\n",
    "print('The value of a is',a)"
   ]
  },
  {
   "cell_type": "code",
   "execution_count": 27,
   "id": "fd5f4b99-a80c-4ba0-b48b-be8ce1800383",
   "metadata": {},
   "outputs": [
    {
     "name": "stdout",
     "output_type": "stream",
     "text": [
      "1 2 3 4\n"
     ]
    }
   ],
   "source": [
    "print(1,2,3,4)"
   ]
  },
  {
   "cell_type": "code",
   "execution_count": 30,
   "id": "561c2e80-c8f1-4029-bcab-bd57b19a3f14",
   "metadata": {},
   "outputs": [
    {
     "name": "stdout",
     "output_type": "stream",
     "text": [
      "1*2*3*4\n"
     ]
    }
   ],
   "source": [
    "print(1,2,3,4,sep='*')"
   ]
  },
  {
   "cell_type": "code",
   "execution_count": 31,
   "id": "4eb02cba-4032-4656-94ca-4c08755d6c87",
   "metadata": {},
   "outputs": [
    {
     "name": "stdout",
     "output_type": "stream",
     "text": [
      "The Given Employee Number is : 101\n",
      "The Given Employee Name is : Karun\n",
      "The Given Employee Salary is : 456.35\n"
     ]
    }
   ],
   "source": [
    "name='Karun'\n",
    "sal=456.35\n",
    "print(\"The Given Employee Number is :\",num)\n",
    "print(\"The Given Employee Name is :\",name'\n",
    "print(\"The Given Employee Salary is :\",sal)"
   ]
  },
  {
   "cell_type": "code",
   "execution_count": 35,
   "id": "c400d23d-7d25-4dfe-9042-7e6b4e68008a",
   "metadata": {},
   "outputs": [
    {
     "name": "stdin",
     "output_type": "stream",
     "text": [
      "Enter employee Name : vardhan\n",
      "Enter the Emp number : 1030\n",
      "Enter sal :  34500\n"
     ]
    },
    {
     "name": "stdout",
     "output_type": "stream",
     "text": [
      "The Given Employee Number is : 1030\n",
      "The Given Employee Name is : vardhan\n",
      "The Given Employee Salary is : 34500.0\n"
     ]
    }
   ],
   "source": [
    "name=input(\"Enter employee Name :\")\n",
    "num=int(input(\"Enter the Emp number :\"))\n",
    "sal=float(input(\"Enter sal : \"))\n",
    "print(\"The Given Employee Number is :\",num)\n",
    "print(\"The Given Employee Name is :\",name)\n",
    "print(\"The Given Employee Salary is :\",sal)"
   ]
  },
  {
   "cell_type": "code",
   "execution_count": 38,
   "id": "3bff41ed-d016-4b44-b52a-bcecd0a30775",
   "metadata": {},
   "outputs": [
    {
     "name": "stdin",
     "output_type": "stream",
     "text": [
      "Enter the radius of the circle :  5\n"
     ]
    },
    {
     "name": "stdout",
     "output_type": "stream",
     "text": [
      "The area for the given radius : 78.5\n"
     ]
    }
   ],
   "source": [
    "#write a python program to enter radius of circle and find the area of the circle \n",
    "r=int(input(\"Enter the radius of the circle : \"))\n",
    "area= 3.14*r*r\n",
    "print(\"The area for the given radius :\",area)"
   ]
  },
  {
   "cell_type": "code",
   "execution_count": 39,
   "id": "f27880d9-1473-4e04-bd47-d64044ed138a",
   "metadata": {},
   "outputs": [
    {
     "name": "stdin",
     "output_type": "stream",
     "text": [
      "Enter the length :  4\n",
      "Enter breadth : 3\n"
     ]
    },
    {
     "name": "stdout",
     "output_type": "stream",
     "text": [
      "Area of the Rectangle :  12\n",
      "Circumference of the Rectangle :  14\n"
     ]
    }
   ],
   "source": [
    "#Write a python program to calculate area and circumferemce of rectangle\n",
    "l=int(input('Enter the length : '))\n",
    "b=int(input(\"Enter breadth :\"))\n",
    "Area=l*b\n",
    "c=2*(l+b)\n",
    "print(\"Area of the Rectangle : \",Area)\n",
    "print(\"Circumference of the Rectangle : \",c)"
   ]
  },
  {
   "cell_type": "code",
   "execution_count": 46,
   "id": "940e358f-3b0f-4ad2-911e-43516ee0adbf",
   "metadata": {},
   "outputs": [
    {
     "name": "stdin",
     "output_type": "stream",
     "text": [
      "Enter student name : SHIVA\n",
      "Enter student number : 1263\n",
      "Enter your sub1 marks : 92\n",
      "Enter your sub2 marks : 91\n",
      "Enter your sub3 marks : 95\n"
     ]
    },
    {
     "name": "stdout",
     "output_type": "stream",
     "text": [
      "REPORT OF THE STUDENT :\n",
      "The Student name : SHIVA\n",
      "The Student number : 1263\n",
      "The Ttal marks : 278\n",
      "The Average marks :  93\n"
     ]
    }
   ],
   "source": [
    "# write a program to enter student number, student name , 3 sub marks , calculate total and average of the student and display the report\n",
    "name =input(\"Enter student name :\")\n",
    "no=int(input(\"Enter student number :\"))\n",
    "su1=int(input(\"Enter your sub1 marks :\"))\n",
    "su2=int(input(\"Enter your sub2 marks :\"))\n",
    "su3=int(input(\"Enter your sub3 marks :\"))\n",
    "total=su1+su2+su3\n",
    "avg=round(total/3)\n",
    "print(\"REPORT OF THE STUDENT :\")\n",
    "print(\"The Student name :\",name)\n",
    "print(\"The Student number :\",no)\n",
    "print(\"The Ttal marks :\",total)\n",
    "print(\"The Average marks : \",avg)"
   ]
  },
  {
   "cell_type": "code",
   "execution_count": 48,
   "id": "c6dece65-9d7e-4fbf-aa27-b78ef00b5d46",
   "metadata": {},
   "outputs": [
    {
     "name": "stdin",
     "output_type": "stream",
     "text": [
      "Enter your value : 20\n",
      "Enter your value : 12\n"
     ]
    },
    {
     "name": "stdout",
     "output_type": "stream",
     "text": [
      "20 A is greater\n"
     ]
    }
   ],
   "source": [
    "#conditional conrol statemets\n",
    "a=int(input(\"Enter your value :\"))\n",
    "b=int(input(\"Enter your value :\"))\n",
    "if a>b:\n",
    "    print(a,\"A is greater\")\n",
    "else:\n",
    "    print(b,\"B is greater\")"
   ]
  },
  {
   "cell_type": "code",
   "execution_count": 51,
   "id": "a8e5c48d-13d4-47b6-ba32-c0fa7f483a0c",
   "metadata": {},
   "outputs": [
    {
     "name": "stdin",
     "output_type": "stream",
     "text": [
      "Enter a value to check even or odd : 13\n"
     ]
    },
    {
     "name": "stdout",
     "output_type": "stream",
     "text": [
      "Odd\n"
     ]
    }
   ],
   "source": [
    "# wap to check the given no is even or odd\n",
    "a=int(input(\"Enter a value to check even or odd :\"))\n",
    "if a%2==0:\n",
    "    print(\"Even\")\n",
    "else:\n",
    "    print(\"Odd\")"
   ]
  },
  {
   "cell_type": "code",
   "execution_count": 52,
   "id": "6cdf0b5c-46a8-4728-a873-136b4336c32d",
   "metadata": {},
   "outputs": [
    {
     "name": "stdin",
     "output_type": "stream",
     "text": [
      "Enter your value : 12\n",
      "Enter your value : 5\n",
      "Enter your value : 7\n"
     ]
    },
    {
     "name": "stdout",
     "output_type": "stream",
     "text": [
      "12 A is greater\n"
     ]
    }
   ],
   "source": [
    "#largest values of 3 numbers\n",
    "a=int(input(\"Enter your value :\"))\n",
    "b=int(input(\"Enter your value :\"))\n",
    "c=int(input(\"Enter your value :\"))\n",
    "if a>b and a>c:\n",
    "    print(a,\"A is greater\")\n",
    "elif a<b and c<b:\n",
    "    print(b,\"B is greater\")\n",
    "else:\n",
    "    print(c,\"C is greater\")"
   ]
  },
  {
   "cell_type": "code",
   "execution_count": null,
   "id": "b1d0b461-115c-4a8e-b24e-0e6f51aa3739",
   "metadata": {},
   "outputs": [],
   "source": [
    "#1 largest of 3 numbers\n",
    "#2 programs on nested if\n",
    "#3 programs on elif\n",
    "#2 programs on for loop\n",
    "#3 while loop "
   ]
  },
  {
   "cell_type": "code",
   "execution_count": null,
   "id": "0e0aa13b-bf6a-495c-a035-229f7cc287e1",
   "metadata": {},
   "outputs": [],
   "source": [
    "n=int(input(\"Enter n values to display\")\n",
    "i=1\n",
    "while i<=n:\n",
    "    print(\"%d\\t\",%d(i))\n",
    "    i+=1"
   ]
  },
  {
   "cell_type": "code",
   "execution_count": null,
   "id": "d21836c7-2a34-4503-ad52-d39428875eb4",
   "metadata": {},
   "outputs": [],
   "source": [
    "n=int(input(\"Enter n values to display\"))\n",
    "i=1\n",
    "while i<=n:\n",
    "    if i%2==0:\n",
    "        print(\"%d\\t\" % i,end=\"\")\n",
    "    i=i+1\n"
   ]
  },
  {
   "cell_type": "code",
   "execution_count": null,
   "id": "58328d5c-e7e9-4181-8cfb-b5a39914a8dd",
   "metadata": {},
   "outputs": [],
   "source": [
    "# to display the mathematical table upto given number\n",
    "n=int(input(\"Enter the last number to be displayed\"))\n",
    "for i in range(1,51,5):\n",
    "    print(\"5*1=\"\"+i\",i)"
   ]
  },
  {
   "cell_type": "code",
   "execution_count": null,
   "id": "dd357991-7116-4d7b-9c80-2a8033ee0d94",
   "metadata": {},
   "outputs": [],
   "source": []
  }
 ],
 "metadata": {
  "kernelspec": {
   "display_name": "Python 3 (ipykernel)",
   "language": "python",
   "name": "python3"
  },
  "language_info": {
   "codemirror_mode": {
    "name": "ipython",
    "version": 3
   },
   "file_extension": ".py",
   "mimetype": "text/x-python",
   "name": "python",
   "nbconvert_exporter": "python",
   "pygments_lexer": "ipython3",
   "version": "3.12.7"
  }
 },
 "nbformat": 4,
 "nbformat_minor": 5
}
